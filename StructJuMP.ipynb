{
 "cells": [
  {
   "cell_type": "code",
   "execution_count": 1,
   "metadata": {},
   "outputs": [
    {
     "name": "stderr",
     "output_type": "stream",
     "text": [
      "\u001b[1m\u001b[36mINFO: \u001b[39m\u001b[22m\u001b[36mRecompiling stale cache file /home/blegat/.julia/lib/v0.6/JuMP.ji for module JuMP.\n",
      "\u001b[39m"
     ]
    },
    {
     "data": {
      "text/plain": [
       "MathOptInterface"
      ]
     },
     "execution_count": 1,
     "metadata": {},
     "output_type": "execute_result"
    }
   ],
   "source": [
    "using JuMP\n",
    "using Base.Test\n",
    "const MOI = MathOptInterface"
   ]
  },
  {
   "cell_type": "code",
   "execution_count": 2,
   "metadata": {},
   "outputs": [
    {
     "data": {
      "text/plain": [
       "StructJuMP"
      ]
     },
     "execution_count": 2,
     "metadata": {},
     "output_type": "execute_result"
    }
   ],
   "source": [
    "module StructJuMP\n",
    "\n",
    "export StructuredModel\n",
    "\n",
    "using JuMP # To reexport, should be using (not import)\n",
    "\n",
    "mutable struct StructuredModel <: JuMP.AbstractModel\n",
    "    variables::Vector{JuMP.AbstractVariable}\n",
    "    varnames::Vector{String}\n",
    "    constraints::Vector{JuMP.AbstractConstraint}\n",
    "    \n",
    "    objdict::Dict{Symbol, Any}\n",
    "\n",
    "    function StructuredModel()\n",
    "        new(JuMP.AbstractVariable[], String[], JuMP.AbstractConstraint[], Dict{Symbol, Any}())\n",
    "    end\n",
    "end\n",
    "\n",
    "JuMP.object_dictionary(m::StructuredModel) = m.objdict\n",
    "\n",
    "struct StructuredVariable <: JuMP.AbstractVariableRef\n",
    "    model::StructuredModel # `model` owning the variable\n",
    "    idx::Int               # Index in `model.variables`\n",
    "end\n",
    "Base.copy(v::StructuredVariable) = v\n",
    "JuMP.name(v::StructuredVariable) = v.model.varnames[v.idx]\n",
    "JuMP.variabletype(::StructuredModel) = StructuredVariable\n",
    "\n",
    "function JuMP.addvariable(m::StructuredModel, v::JuMP.AbstractVariable, name::String=\"\")\n",
    "    push!(m.variables, v)\n",
    "    push!(m.varnames, name)\n",
    "    StructuredVariable(m, length(m.variables))\n",
    "end\n",
    "\n",
    "struct StructuredConstraintRef\n",
    "    model::StructuredModel # `model` owning the constraint\n",
    "    idx::Int               # Index in `model.constraints`\n",
    "end\n",
    "\n",
    "function JuMP.addconstraint(m::StructuredModel, c::JuMP.AbstractConstraint, name::String=\"\")\n",
    "    push!(m.constraints, c)\n",
    "    StructuredConstraintRef(m, length(m.constraints))\n",
    "end\n",
    "\n",
    "end"
   ]
  },
  {
   "cell_type": "code",
   "execution_count": 21,
   "metadata": {},
   "outputs": [
    {
     "data": {
      "text/plain": [
       "StructJuMP.StructuredModel(JuMP.AbstractVariable[], String[], JuMP.AbstractConstraint[], Dict{Symbol,Any}())"
      ]
     },
     "execution_count": 21,
     "metadata": {},
     "output_type": "execute_result"
    }
   ],
   "source": [
    "m = StructJuMP.StructuredModel()"
   ]
  },
  {
   "cell_type": "code",
   "execution_count": 22,
   "metadata": {},
   "outputs": [
    {
     "data": {
      "text/plain": [
       "\u001b[1m\u001b[32mTest Passed\u001b[39m\u001b[22m"
      ]
     },
     "execution_count": 22,
     "metadata": {},
     "output_type": "execute_result"
    }
   ],
   "source": [
    "@variable m x\n",
    "@test x isa StructJuMP.StructuredVariable\n",
    "@test string(x) == \"x\"\n",
    "@test m[:x] === x"
   ]
  },
  {
   "cell_type": "code",
   "execution_count": 23,
   "metadata": {},
   "outputs": [
    {
     "data": {
      "text/plain": [
       "\u001b[1m\u001b[32mTest Passed\u001b[39m\u001b[22m"
      ]
     },
     "execution_count": 23,
     "metadata": {},
     "output_type": "execute_result"
    }
   ],
   "source": [
    "@variable m y[1:2, 1:2]\n",
    "@test y isa Matrix{StructJuMP.StructuredVariable}\n",
    "@test string(y[1, 1]) == \"y[1,1]\""
   ]
  },
  {
   "cell_type": "code",
   "execution_count": 25,
   "metadata": {},
   "outputs": [
    {
     "data": {
      "text/plain": [
       "\u001b[1m\u001b[32mTest Passed\u001b[39m\u001b[22m"
      ]
     },
     "execution_count": 25,
     "metadata": {},
     "output_type": "execute_result"
    }
   ],
   "source": [
    "cref = @constraint m x in MOI.LessThan(1.0)\n",
    "c = m.constraints[cref.idx]\n",
    "@test m.constraints[cref.idx] isa JuMP.SingleVariableConstraint{StructJuMP.StructuredVariable}"
   ]
  },
  {
   "cell_type": "code",
   "execution_count": 7,
   "metadata": {},
   "outputs": [],
   "source": [
    "@constraint m 1 <= x <= 2;"
   ]
  },
  {
   "cell_type": "code",
   "execution_count": 8,
   "metadata": {},
   "outputs": [],
   "source": [
    "@constraint m 2x+1 == 2;"
   ]
  },
  {
   "cell_type": "code",
   "execution_count": 9,
   "metadata": {},
   "outputs": [],
   "source": [
    "@constraint m 1 <= 2x+1 <= 2;"
   ]
  },
  {
   "cell_type": "code",
   "execution_count": 10,
   "metadata": {},
   "outputs": [],
   "source": [
    "@constraint m 2x^2+1 == 2;"
   ]
  },
  {
   "cell_type": "code",
   "execution_count": 11,
   "metadata": {},
   "outputs": [
    {
     "ename": "LoadError",
     "evalue": "\u001b[91mIn @constraint(m,1 <= 2 * x ^ 2 + 1 <= 2): Two-sided quadratic constraints not supported. (Try @NLconstraint instead.)\u001b[39m",
     "output_type": "error",
     "traceback": [
      "\u001b[91mIn @constraint(m,1 <= 2 * x ^ 2 + 1 <= 2): Two-sided quadratic constraints not supported. (Try @NLconstraint instead.)\u001b[39m",
      "",
      "Stacktrace:",
      " [1] \u001b[1mmacro_error\u001b[22m\u001b[22m\u001b[1m(\u001b[22m\u001b[22m::Symbol, ::Array{Any,1}, ::String\u001b[1m)\u001b[22m\u001b[22m at \u001b[1m/home/blegat/.julia/v0.6/JuMP/src/macros.jl:867\u001b[22m\u001b[22m",
      " [2] \u001b[1mbuildconstraint\u001b[22m\u001b[22m\u001b[1m(\u001b[22m\u001b[22m::JuMP.#_error#78, ::JuMP.GenericQuadExpr{Float64,StructJuMP.StructuredVariable}, ::Float64, ::Float64\u001b[1m)\u001b[22m\u001b[22m at \u001b[1m/home/blegat/.julia/v0.6/JuMP/src/macros.jl:367\u001b[22m\u001b[22m",
      " [3] \u001b[1mexecute_request\u001b[22m\u001b[22m\u001b[1m(\u001b[22m\u001b[22m::ZMQ.Socket, ::IJulia.Msg\u001b[1m)\u001b[22m\u001b[22m at \u001b[1m/home/blegat/.julia/v0.6/IJulia/src/execute_request.jl:158\u001b[22m\u001b[22m",
      " [4] \u001b[1m(::Compat.#inner#17{Array{Any,1},IJulia.#execute_request,Tuple{ZMQ.Socket,IJulia.Msg}})\u001b[22m\u001b[22m\u001b[1m(\u001b[22m\u001b[22m\u001b[1m)\u001b[22m\u001b[22m at \u001b[1m/home/blegat/.julia/v0.6/Compat/src/Compat.jl:385\u001b[22m\u001b[22m",
      " [5] \u001b[1meventloop\u001b[22m\u001b[22m\u001b[1m(\u001b[22m\u001b[22m::ZMQ.Socket\u001b[1m)\u001b[22m\u001b[22m at \u001b[1m/home/blegat/.julia/v0.6/IJulia/src/eventloop.jl:8\u001b[22m\u001b[22m",
      " [6] \u001b[1m(::IJulia.##14#17)\u001b[22m\u001b[22m\u001b[1m(\u001b[22m\u001b[22m\u001b[1m)\u001b[22m\u001b[22m at \u001b[1m./task.jl:335\u001b[22m\u001b[22m"
     ]
    }
   ],
   "source": [
    "@constraint m 1 <= 2x^2+1 <= 2;"
   ]
  },
  {
   "cell_type": "code",
   "execution_count": 12,
   "metadata": {},
   "outputs": [],
   "source": [
    "@constraint m [x, x] .== [1, 2];"
   ]
  },
  {
   "cell_type": "code",
   "execution_count": 13,
   "metadata": {},
   "outputs": [],
   "source": [
    "@constraint m [2x, x+1] .== [1, 2];"
   ]
  },
  {
   "cell_type": "code",
   "execution_count": 14,
   "metadata": {
    "collapsed": true
   },
   "outputs": [],
   "source": [
    "@constraint m [1, 2] .<= [2x, x+1] .<= [3, 4];"
   ]
  },
  {
   "cell_type": "code",
   "execution_count": 15,
   "metadata": {},
   "outputs": [
    {
     "ename": "LoadError",
     "evalue": "\u001b[91mA variable or constraint named y is already attached to this model. If creating variables programmatically, use the anonymous variable syntax x = @variable(m, [1:N], ...).\u001b[39m",
     "output_type": "error",
     "traceback": [
      "\u001b[91mA variable or constraint named y is already attached to this model. If creating variables programmatically, use the anonymous variable syntax x = @variable(m, [1:N], ...).\u001b[39m",
      "",
      "Stacktrace:",
      " [1] \u001b[1mregisterobject\u001b[22m\u001b[22m\u001b[1m(\u001b[22m\u001b[22m::StructJuMP.StructuredModel, ::Symbol, ::Array{StructJuMP.StructuredVariable,2}, ::String\u001b[1m)\u001b[22m\u001b[22m at \u001b[1m/home/blegat/.julia/v0.6/JuMP/src/JuMP.jl:431\u001b[22m\u001b[22m",
      " [2] \u001b[1mregistervar\u001b[22m\u001b[22m\u001b[1m(\u001b[22m\u001b[22m::StructJuMP.StructuredModel, ::Symbol, ::Array{StructJuMP.StructuredVariable,2}\u001b[1m)\u001b[22m\u001b[22m at \u001b[1m/home/blegat/.julia/v0.6/JuMP/src/JuMP.jl:417\u001b[22m\u001b[22m",
      " [3] \u001b[1mmacro expansion\u001b[22m\u001b[22m at \u001b[1m/home/blegat/.julia/v0.6/JuMP/src/macros.jl:1126\u001b[22m\u001b[22m [inlined]",
      " [4] \u001b[1manonymous\u001b[22m\u001b[22m at \u001b[1m./<missing>:?\u001b[22m\u001b[22m",
      " [5] \u001b[1mexecute_request\u001b[22m\u001b[22m\u001b[1m(\u001b[22m\u001b[22m::ZMQ.Socket, ::IJulia.Msg\u001b[1m)\u001b[22m\u001b[22m at \u001b[1m/home/blegat/.julia/v0.6/IJulia/src/execute_request.jl:158\u001b[22m\u001b[22m",
      " [6] \u001b[1m(::Compat.#inner#17{Array{Any,1},IJulia.#execute_request,Tuple{ZMQ.Socket,IJulia.Msg}})\u001b[22m\u001b[22m\u001b[1m(\u001b[22m\u001b[22m\u001b[1m)\u001b[22m\u001b[22m at \u001b[1m/home/blegat/.julia/v0.6/Compat/src/Compat.jl:385\u001b[22m\u001b[22m",
      " [7] \u001b[1meventloop\u001b[22m\u001b[22m\u001b[1m(\u001b[22m\u001b[22m::ZMQ.Socket\u001b[1m)\u001b[22m\u001b[22m at \u001b[1m/home/blegat/.julia/v0.6/IJulia/src/eventloop.jl:8\u001b[22m\u001b[22m",
      " [8] \u001b[1m(::IJulia.##14#17)\u001b[22m\u001b[22m\u001b[1m(\u001b[22m\u001b[22m\u001b[1m)\u001b[22m\u001b[22m at \u001b[1m./task.jl:335\u001b[22m\u001b[22m"
     ]
    }
   ],
   "source": [
    "@variable m y[1:2, 1:2]"
   ]
  },
  {
   "cell_type": "code",
   "execution_count": 16,
   "metadata": {},
   "outputs": [
    {
     "data": {
      "text/latex": [
       "$$ 2 x + 1 $$"
      ],
      "text/plain": [
       "2 x + 1"
      ]
     },
     "execution_count": 16,
     "metadata": {},
     "output_type": "execute_result"
    }
   ],
   "source": [
    "2x + 1"
   ]
  },
  {
   "cell_type": "code",
   "execution_count": 17,
   "metadata": {},
   "outputs": [
    {
     "data": {
      "text/latex": [
       "$$ x^2 + 1 $$"
      ],
      "text/plain": [
       "x² + 1"
      ]
     },
     "execution_count": 17,
     "metadata": {},
     "output_type": "execute_result"
    }
   ],
   "source": [
    "x^2 + 1"
   ]
  },
  {
   "cell_type": "code",
   "execution_count": 18,
   "metadata": {},
   "outputs": [
    {
     "data": {
      "text/plain": [
       "A JuMP Model"
      ]
     },
     "execution_count": 18,
     "metadata": {},
     "output_type": "execute_result"
    }
   ],
   "source": [
    "m = JuMP.Model()"
   ]
  },
  {
   "cell_type": "code",
   "execution_count": 19,
   "metadata": {},
   "outputs": [
    {
     "data": {
      "text/latex": [
       "$$ z $$"
      ],
      "text/plain": [
       "z"
      ]
     },
     "execution_count": 19,
     "metadata": {},
     "output_type": "execute_result"
    }
   ],
   "source": [
    "@variable m z"
   ]
  },
  {
   "cell_type": "code",
   "execution_count": 20,
   "metadata": {},
   "outputs": [
    {
     "data": {
      "text/plain": [
       "JuMP.ConstraintRef{JuMP.Model,MathOptInterface.ConstraintIndex{MathOptInterface.ScalarAffineFunction{Float64},MathOptInterface.EqualTo{Float64}}}(A JuMP Model, MathOptInterface.ConstraintIndex{MathOptInterface.ScalarAffineFunction{Float64},MathOptInterface.EqualTo{Float64}}(1))"
      ]
     },
     "execution_count": 20,
     "metadata": {},
     "output_type": "execute_result"
    }
   ],
   "source": [
    "@constraint m z == 1"
   ]
  },
  {
   "cell_type": "code",
   "execution_count": null,
   "metadata": {
    "collapsed": true
   },
   "outputs": [],
   "source": []
  }
 ],
 "metadata": {
  "kernelspec": {
   "display_name": "Julia 0.6.2",
   "language": "julia",
   "name": "julia-0.6"
  },
  "language_info": {
   "file_extension": ".jl",
   "mimetype": "application/julia",
   "name": "julia",
   "version": "0.6.2"
  }
 },
 "nbformat": 4,
 "nbformat_minor": 2
}
